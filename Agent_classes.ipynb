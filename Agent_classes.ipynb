{
 "cells": [
  {
   "cell_type": "code",
   "execution_count": 1,
   "metadata": {},
   "outputs": [],
   "source": [
    "import numpy as np\n",
    "from random import seed\n",
    "from random import randint\n",
    "\n",
    "seed(1)\n",
    "\n",
    "MAX_PRICE = 9\n",
    "MIN_PRICE = 1"
   ]
  },
  {
   "cell_type": "code",
   "execution_count": 2,
   "metadata": {},
   "outputs": [],
   "source": [
    "class Agent:\n",
    "    def __init__(self, vector_prices):\n",
    "        self.possible_prices = vector_prices ## Al the prices the agent consider possible.\n",
    "        self.sharing_knowledge = [-1,-1] ## This variable will be used to share knowledge with other agents.\n",
    "        ## The first value indicates the type of information that he will share (1 = less than (for buyers) &\n",
    "        ## 2 = more than (for sellers)) and the second value the price associated, both of them associated to the last trade.\n",
    "        self.can_negotiate = True ## If they can trade or not.\n",
    "        self.last_deal_price = -1 ## The information about the last transaction the agent made.\n",
    "\n",
    "    ## Adding another price to the possible prices.\n",
    "    def add_possible_price(self,price):\n",
    "        self.possible_prices = np.append(self.possible_prices,price)\n",
    "        self.possible_prices = np.unique(self.possible_prices)\n",
    "        self.possible_prices = np.sort(self.possible_prices)\n",
    "        \n",
    "    ##Remove a price from the possible prices.\n",
    "    def remove_possible_price(self,price):\n",
    "        index = -1\n",
    "        for i,p in np.ndenumerate(self.possible_prices):\n",
    "            if price == p:\n",
    "                index = i\n",
    "        if index != -1:\n",
    "            self.possible_prices = np.delete(self.possible_prices,index)\n",
    "        self.possible_prices = np.sort(self.possible_prices)\n",
    "    \n",
    "    ## Updating the price of the last deal made by the agent\n",
    "    def update_last_deal(self,price):\n",
    "         self.last_deal_price = price\n",
    "            \n",
    "    def update_can_negotiate(self,bool_value):\n",
    "        self.can_negotiate = bool_value"
   ]
  },
  {
   "cell_type": "code",
   "execution_count": 3,
   "metadata": {},
   "outputs": [],
   "source": [
    "class Buyer(Agent):\n",
    "    def __init__(self, vector_prices):\n",
    "        Agent.__init__(self,vector_prices)\n",
    "        self.sharing_knowledge = [1,-1]\n",
    "    \n",
    "    ## As a Buyer, if someone made a deal for less price than some of your possible scenarios, you will\n",
    "    ## remove these ones, to achieve deals for less or equal value than that one (good ones for you).\n",
    "    def adquire_knowledge(self,new_knowledge):\n",
    "        for number in range(new_knowledge[1],MAX_PRICE+1):\n",
    "            self.remove_possible_price(number)\n",
    "            \n",
    "    def update_share_information(self):\n",
    "        value = randint(self.last_deal_price,MAX_PRICE+1)\n",
    "        self.sharing_knowledge = [1,value]"
   ]
  },
  {
   "cell_type": "code",
   "execution_count": 4,
   "metadata": {},
   "outputs": [],
   "source": [
    "class Seller(Agent):\n",
    "    def __init__(self, vector_prices):\n",
    "        Agent.__init__(self,vector_prices)\n",
    "        self.sharing_knowledge = [2,-1]\n",
    "        \n",
    "    ## As a seller, if someone made a deal for more price than some of your possible scenarios, you will\n",
    "    ## remove these ones, to achieve deals for more or equal value than that one (good ones for you).\n",
    "    def adquire_knowledge(self,new_knowledge):\n",
    "        for number in range(MIN_PRICE,new_knowledge[1]):\n",
    "            self.remove_possible_price(number)\n",
    "            \n",
    "    def update_share_information(self):\n",
    "        ## based on the number, \"randomize\" -> second value of knowledge\n",
    "        value = randint(MIN_PRICE,self.last_deal_price+1)\n",
    "        self.sharing_knowledge = [2,value]"
   ]
  },
  {
   "cell_type": "code",
   "execution_count": 21,
   "metadata": {},
   "outputs": [],
   "source": [
    "values = [1,2,3,4,5,6,7,8,9]\n",
    "values_2 = [1,2,3]\n",
    "deal = 3\n",
    "buyer_1 = Buyer(values)\n",
    "buyer_2 = Buyer(values_2)\n",
    "buyer_2.update_last_deal(deal)\n",
    "buyer_2.update_share_information()\n",
    "buyer_1.adquire_knowledge(buyer_2.sharing_knowledge)"
   ]
  },
  {
   "cell_type": "code",
   "execution_count": 22,
   "metadata": {},
   "outputs": [
    {
     "data": {
      "text/plain": [
       "array([1, 2, 3, 4, 5])"
      ]
     },
     "execution_count": 22,
     "metadata": {},
     "output_type": "execute_result"
    }
   ],
   "source": [
    "buyer_1.possible_prices"
   ]
  },
  {
   "cell_type": "code",
   "execution_count": null,
   "metadata": {},
   "outputs": [],
   "source": []
  }
 ],
 "metadata": {
  "kernelspec": {
   "display_name": "Python 3",
   "language": "python",
   "name": "python3"
  },
  "language_info": {
   "codemirror_mode": {
    "name": "ipython",
    "version": 3
   },
   "file_extension": ".py",
   "mimetype": "text/x-python",
   "name": "python",
   "nbconvert_exporter": "python",
   "pygments_lexer": "ipython3",
   "version": "3.7.3"
  }
 },
 "nbformat": 4,
 "nbformat_minor": 4
}
